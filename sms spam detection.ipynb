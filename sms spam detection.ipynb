{
  "nbformat": 4,
  "nbformat_minor": 0,
  "metadata": {
    "colab": {
      "provenance": []
    },
    "kernelspec": {
      "name": "python3",
      "display_name": "Python 3"
    },
    "language_info": {
      "name": "python"
    }
  },
  "cells": [
    {
      "cell_type": "code",
      "source": [
        "# Step 1: Import necessary libraries\n",
        "import numpy as np\n",
        "import pandas as pd\n",
        "from sklearn.model_selection import train_test_split\n",
        "from sklearn.naive_bayes import GaussianNB\n",
        "from sklearn import datasets\n",
        "from sklearn.metrics import accuracy_score, confusion_matrix, classification_report  # Make sure these are imported\n",
        "\n",
        "# Step 2: Load the Iris dataset\n",
        "# Use pd.read_csv to read data from CSV instead of load_iris\n",
        "iris = pd.read_csv('/content/IRIS.csv')\n",
        "X = iris.drop('species', axis=1).values  # Assuming 'species' is your target column\n",
        "y = iris['species'].values  # Assuming 'species' is your target column\n",
        "\n",
        "# Step 3: Split the data into training and testing sets\n",
        "X_train, X_test, y_train, y_test = train_test_split(X, y, test_size=0.3, random_state=42)\n",
        "\n",
        "# Step 4: Train the Naive Bayes model\n",
        "model = GaussianNB()  # Gaussian Naive Bayes as the Iris dataset features are continuous\n",
        "model.fit(X_train, y_train)\n",
        "\n",
        "# Step 5: Make predictions\n",
        "y_pred = model.predict(X_test)\n",
        "\n",
        "# Step 6: Evaluate the model's performance\n",
        "accuracy = accuracy_score(y_test, y_pred)\n",
        "print(f\"Accuracy of Naive Bayes classifier: {accuracy * 100:.2f}%\")\n",
        "\n",
        "# Calculate and store the confusion matrix and classification report\n",
        "conf_matrix = confusion_matrix(y_test, y_pred)  # Calculate confusion matrix\n",
        "class_report = classification_report(y_test, y_pred)  # Calculate classification report\n",
        "\n",
        "\n",
        "print(\"\\nconfusion matrix:\")\n",
        "print(conf_matrix)  # Now print the calculated confusion matrix\n",
        "print(\"\\nclassification report:\")\n",
        "print(class_report)  # Now print the calculated classification report"
      ],
      "metadata": {
        "colab": {
          "base_uri": "https://localhost:8080/"
        },
        "id": "qgY4AGdwgLPV",
        "outputId": "9d2cd5fa-6bac-4e37-c7da-7ed04978ebd6"
      },
      "execution_count": 12,
      "outputs": [
        {
          "output_type": "stream",
          "name": "stdout",
          "text": [
            "Accuracy of Naive Bayes classifier: 97.78%\n",
            "\n",
            "confusion matrix:\n",
            "[[19  0  0]\n",
            " [ 0 12  1]\n",
            " [ 0  0 13]]\n",
            "\n",
            "classification report:\n",
            "                 precision    recall  f1-score   support\n",
            "\n",
            "    Iris-setosa       1.00      1.00      1.00        19\n",
            "Iris-versicolor       1.00      0.92      0.96        13\n",
            " Iris-virginica       0.93      1.00      0.96        13\n",
            "\n",
            "       accuracy                           0.98        45\n",
            "      macro avg       0.98      0.97      0.97        45\n",
            "   weighted avg       0.98      0.98      0.98        45\n",
            "\n"
          ]
        }
      ]
    },
    {
      "cell_type": "code",
      "source": [
        "import pandas as pd\n",
        "from sklearn.model_selection import train_test_split\n",
        "from sklearn.feature_extraction.text import TfidfVectorizer\n",
        "from sklearn.naive_bayes import MultinomialNB\n",
        "from sklearn.metrics import classification_report, accuracy_score\n",
        "\n",
        "# Load the dataset\n",
        "data = pd.read_csv(\"/content/spam_ham_india.csv\")\n",
        "\n",
        "# Check the column names in your DataFrame\n",
        "print(data.columns)  # Print the available columns\n",
        "\n",
        "# Assuming your message column is named 'Msg' (based on the provided data sample)\n",
        "# Replace 'Msg' with the actual name of your message column if it's different\n",
        "message_column_name = 'Msg'  # Replace 'Msg' with the actual column name if needed\n",
        "\n",
        "# Assuming your label column is named 'Label' (based on error message)\n",
        "# Replace 'Label' with the actual name of your label column if it's different\n",
        "label_column_name = 'Label'  # Replace 'Label' with the actual column name if needed\n",
        "\n",
        "\n",
        "# Preprocessing: Convert all messages to lowercase\n",
        "data[message_column_name] = data[message_column_name].str.lower()\n",
        "\n",
        "# Splitting the data into training and test sets (80% training, 20% test)\n",
        "X = data[message_column_name]\n",
        "y = data[label_column_name]  # Assuming 'Label' is your target column\n",
        "X_train, X_test, y_train, y_test = train_test_split(X, y, test_size=0.2, random_state=42)\n",
        "\n",
        "# Convert text data into numerical features using TF-IDF Vectorizer\n",
        "vectorizer = TfidfVectorizer(stop_words='english')  # Remove common English stopwords\n",
        "X_train_tfidf = vectorizer.fit_transform(X_train.fillna('')) # Fill NaN with empty string for training data\n",
        "X_test_tfidf = vectorizer.transform(X_test.fillna('')) # Fill NaN with empty string for testing data\n",
        "\n",
        "# Model: Naive Bayes\n",
        "model = MultinomialNB()\n",
        "model.fit(X_train_tfidf, y_train)\n",
        "\n",
        "# Predicting the labels on the test set\n",
        "y_pred = model.predict(X_test_tfidf)\n",
        "\n",
        "# Evaluating the model\n",
        "print(f\"Accuracy: {accuracy_score(y_test, y_pred):.4f}\")\n",
        "print(\"\\nClassification Report:\")\n",
        "print(classification_report(y_test, y_pred))"
      ],
      "metadata": {
        "colab": {
          "base_uri": "https://localhost:8080/"
        },
        "id": "lTwUSlcKwjTz",
        "outputId": "5d40836a-1ef2-4b86-f29b-5075ac762e0f"
      },
      "execution_count": 20,
      "outputs": [
        {
          "output_type": "stream",
          "name": "stdout",
          "text": [
            "Index(['Msg', 'Label'], dtype='object')\n",
            "Accuracy: 0.9890\n",
            "\n",
            "Classification Report:\n",
            "              precision    recall  f1-score   support\n",
            "\n",
            "         ham       0.99      1.00      0.99       297\n",
            "        spam       0.99      0.97      0.98       157\n",
            "\n",
            "    accuracy                           0.99       454\n",
            "   macro avg       0.99      0.99      0.99       454\n",
            "weighted avg       0.99      0.99      0.99       454\n",
            "\n"
          ]
        }
      ]
    }
  ]
}